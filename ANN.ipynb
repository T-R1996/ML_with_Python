{
 "cells": [
  {
   "cell_type": "code",
   "execution_count": 1,
   "metadata": {},
   "outputs": [],
   "source": [
    "import numpy as np\n",
    "from keras.datasets import mnist\n",
    "from tensorflow.keras.utils import to_categorical\n",
    "\n",
    "import time\n",
    "from tensorflow.keras.models import Sequential\n",
    "from tensorflow.keras.layers import Dense\n",
    "from tensorflow.keras.optimizers import SGD"
   ]
  },
  {
   "cell_type": "code",
   "execution_count": 2,
   "metadata": {},
   "outputs": [],
   "source": [
    "(x_train, y_train), (x_test, y_test) = mnist.load_data()"
   ]
  },
  {
   "cell_type": "code",
   "execution_count": 3,
   "metadata": {},
   "outputs": [
    {
     "data": {
      "text/plain": [
       "array([5, 0, 4, ..., 5, 6, 8], dtype=uint8)"
      ]
     },
     "execution_count": 3,
     "metadata": {},
     "output_type": "execute_result"
    }
   ],
   "source": [
    "y_train"
   ]
  },
  {
   "cell_type": "code",
   "execution_count": 4,
   "metadata": {},
   "outputs": [],
   "source": [
    "# Reshape input image data from matrixs to vectors\n",
    "[n_samples_train, width, height] = np.shape(x_train)\n",
    "[n_samples_test, width, height] = np.shape(x_test)\n",
    "x_train = x_train.reshape([n_samples_train, width*height]).astype('float32')\n",
    "x_test = x_test.reshape([n_samples_test, width*height]).astype('float32')"
   ]
  },
  {
   "cell_type": "code",
   "execution_count": 5,
   "metadata": {},
   "outputs": [],
   "source": [
    "# Normalize the dataset\n",
    "x_train /= 255\n",
    "x_test /= 255"
   ]
  },
  {
   "cell_type": "code",
   "execution_count": 6,
   "metadata": {},
   "outputs": [],
   "source": [
    "# Convert class vectors to one-hot vector matrices\n",
    "num_classes = 10    \n",
    "y_train = to_categorical(y_train, num_classes)\n",
    "y_test = to_categorical(y_test, num_classes)"
   ]
  },
  {
   "cell_type": "code",
   "execution_count": 9,
   "metadata": {},
   "outputs": [],
   "source": [
    "# In the MINST data, the input dim = 784 and the output dim = 10 \n",
    "def shallow_NN_model(n_hidden_neurons, output_dim = 10, input_dim = 784):\n",
    "    start_time = time.time()\n",
    "    print('Compiling Model ... ')\n",
    "    model = Sequential()\n",
    "    # Add a hidden layer with ReLU activation function\n",
    "    model.add(Dense(n_hidden_neurons, activation='relu', input_dim = input_dim))\n",
    "    # Add an output layer with softmax activation function for multi-classification problem\n",
    "    model.add(Dense(output_dim, activation = 'softmax'))\n",
    "    sgd = SGD(learning_rate=0.1, momentum=0.9, nesterov=True)\n",
    "    model.compile(loss='categorical_crossentropy', optimizer=sgd, metrics=['accuracy'])\n",
    "    print('Model compield in {0} seconds'.format(time.time() - start_time))\n",
    "    return model"
   ]
  },
  {
   "cell_type": "code",
   "execution_count": 10,
   "metadata": {},
   "outputs": [
    {
     "name": "stdout",
     "output_type": "stream",
     "text": [
      "Compiling Model ... \n",
      "Model compield in 0.06962895393371582 seconds\n",
      "Epoch 1/100\n",
      "235/235 - 2s - loss: 0.3527 - accuracy: 0.8977 - val_loss: 0.1879 - val_accuracy: 0.9453 - 2s/epoch - 10ms/step\n",
      "Epoch 2/100\n",
      "235/235 - 1s - loss: 0.1671 - accuracy: 0.9522 - val_loss: 0.1457 - val_accuracy: 0.9574 - 1s/epoch - 5ms/step\n",
      "Epoch 3/100\n",
      "235/235 - 1s - loss: 0.1246 - accuracy: 0.9647 - val_loss: 0.1143 - val_accuracy: 0.9654 - 1s/epoch - 5ms/step\n",
      "Epoch 4/100\n",
      "235/235 - 1s - loss: 0.1017 - accuracy: 0.9707 - val_loss: 0.1030 - val_accuracy: 0.9701 - 1s/epoch - 5ms/step\n",
      "Epoch 5/100\n",
      "235/235 - 1s - loss: 0.0866 - accuracy: 0.9747 - val_loss: 0.0976 - val_accuracy: 0.9697 - 1s/epoch - 5ms/step\n",
      "Epoch 6/100\n",
      "235/235 - 1s - loss: 0.0755 - accuracy: 0.9773 - val_loss: 0.0962 - val_accuracy: 0.9698 - 1s/epoch - 5ms/step\n",
      "Epoch 7/100\n",
      "235/235 - 1s - loss: 0.0681 - accuracy: 0.9798 - val_loss: 0.0960 - val_accuracy: 0.9714 - 1s/epoch - 5ms/step\n",
      "Epoch 8/100\n",
      "235/235 - 1s - loss: 0.0591 - accuracy: 0.9829 - val_loss: 0.0902 - val_accuracy: 0.9709 - 1s/epoch - 5ms/step\n",
      "Epoch 9/100\n",
      "235/235 - 1s - loss: 0.0534 - accuracy: 0.9842 - val_loss: 0.0874 - val_accuracy: 0.9727 - 962ms/epoch - 4ms/step\n",
      "Epoch 10/100\n",
      "235/235 - 1s - loss: 0.0489 - accuracy: 0.9850 - val_loss: 0.0885 - val_accuracy: 0.9741 - 908ms/epoch - 4ms/step\n",
      "Epoch 11/100\n",
      "235/235 - 1s - loss: 0.0440 - accuracy: 0.9873 - val_loss: 0.0862 - val_accuracy: 0.9748 - 909ms/epoch - 4ms/step\n",
      "Epoch 12/100\n",
      "235/235 - 1s - loss: 0.0404 - accuracy: 0.9878 - val_loss: 0.0871 - val_accuracy: 0.9749 - 900ms/epoch - 4ms/step\n",
      "Epoch 13/100\n",
      "235/235 - 1s - loss: 0.0364 - accuracy: 0.9893 - val_loss: 0.0871 - val_accuracy: 0.9747 - 909ms/epoch - 4ms/step\n",
      "Epoch 14/100\n",
      "235/235 - 1s - loss: 0.0340 - accuracy: 0.9900 - val_loss: 0.0904 - val_accuracy: 0.9745 - 913ms/epoch - 4ms/step\n",
      "Epoch 15/100\n",
      "235/235 - 1s - loss: 0.0299 - accuracy: 0.9915 - val_loss: 0.0868 - val_accuracy: 0.9754 - 890ms/epoch - 4ms/step\n",
      "Epoch 16/100\n",
      "235/235 - 1s - loss: 0.0278 - accuracy: 0.9920 - val_loss: 0.0888 - val_accuracy: 0.9757 - 902ms/epoch - 4ms/step\n",
      "Epoch 17/100\n",
      "235/235 - 1s - loss: 0.0251 - accuracy: 0.9924 - val_loss: 0.0953 - val_accuracy: 0.9737 - 886ms/epoch - 4ms/step\n",
      "Epoch 18/100\n",
      "235/235 - 1s - loss: 0.0229 - accuracy: 0.9939 - val_loss: 0.0899 - val_accuracy: 0.9756 - 927ms/epoch - 4ms/step\n",
      "Epoch 19/100\n",
      "235/235 - 1s - loss: 0.0203 - accuracy: 0.9944 - val_loss: 0.0954 - val_accuracy: 0.9740 - 900ms/epoch - 4ms/step\n",
      "Epoch 20/100\n",
      "235/235 - 1s - loss: 0.0195 - accuracy: 0.9947 - val_loss: 0.0960 - val_accuracy: 0.9750 - 987ms/epoch - 4ms/step\n",
      "Epoch 21/100\n",
      "235/235 - 1s - loss: 0.0170 - accuracy: 0.9956 - val_loss: 0.0956 - val_accuracy: 0.9741 - 934ms/epoch - 4ms/step\n",
      "Epoch 22/100\n",
      "235/235 - 1s - loss: 0.0154 - accuracy: 0.9962 - val_loss: 0.0945 - val_accuracy: 0.9760 - 906ms/epoch - 4ms/step\n",
      "Epoch 23/100\n",
      "235/235 - 1s - loss: 0.0144 - accuracy: 0.9964 - val_loss: 0.0987 - val_accuracy: 0.9739 - 896ms/epoch - 4ms/step\n",
      "Epoch 24/100\n",
      "235/235 - 1s - loss: 0.0131 - accuracy: 0.9971 - val_loss: 0.1038 - val_accuracy: 0.9741 - 886ms/epoch - 4ms/step\n",
      "Epoch 25/100\n",
      "235/235 - 1s - loss: 0.0123 - accuracy: 0.9972 - val_loss: 0.1022 - val_accuracy: 0.9751 - 899ms/epoch - 4ms/step\n",
      "Epoch 26/100\n",
      "235/235 - 1s - loss: 0.0111 - accuracy: 0.9978 - val_loss: 0.1044 - val_accuracy: 0.9739 - 876ms/epoch - 4ms/step\n",
      "Epoch 27/100\n",
      "235/235 - 1s - loss: 0.0098 - accuracy: 0.9981 - val_loss: 0.1025 - val_accuracy: 0.9752 - 898ms/epoch - 4ms/step\n",
      "Epoch 28/100\n",
      "235/235 - 1s - loss: 0.0088 - accuracy: 0.9987 - val_loss: 0.1048 - val_accuracy: 0.9756 - 885ms/epoch - 4ms/step\n",
      "Epoch 29/100\n",
      "235/235 - 1s - loss: 0.0076 - accuracy: 0.9989 - val_loss: 0.1039 - val_accuracy: 0.9756 - 911ms/epoch - 4ms/step\n",
      "Epoch 30/100\n",
      "235/235 - 1s - loss: 0.0072 - accuracy: 0.9991 - val_loss: 0.1034 - val_accuracy: 0.9754 - 893ms/epoch - 4ms/step\n",
      "Epoch 31/100\n",
      "235/235 - 1s - loss: 0.0063 - accuracy: 0.9992 - val_loss: 0.1090 - val_accuracy: 0.9749 - 924ms/epoch - 4ms/step\n",
      "Epoch 32/100\n",
      "235/235 - 1s - loss: 0.0060 - accuracy: 0.9993 - val_loss: 0.1048 - val_accuracy: 0.9749 - 925ms/epoch - 4ms/step\n",
      "Epoch 33/100\n",
      "235/235 - 1s - loss: 0.0050 - accuracy: 0.9996 - val_loss: 0.1047 - val_accuracy: 0.9761 - 901ms/epoch - 4ms/step\n",
      "Epoch 34/100\n",
      "235/235 - 1s - loss: 0.0046 - accuracy: 0.9997 - val_loss: 0.1069 - val_accuracy: 0.9759 - 880ms/epoch - 4ms/step\n",
      "Epoch 35/100\n",
      "235/235 - 1s - loss: 0.0042 - accuracy: 0.9998 - val_loss: 0.1064 - val_accuracy: 0.9756 - 884ms/epoch - 4ms/step\n",
      "Epoch 36/100\n",
      "235/235 - 1s - loss: 0.0039 - accuracy: 0.9998 - val_loss: 0.1099 - val_accuracy: 0.9755 - 898ms/epoch - 4ms/step\n",
      "Epoch 37/100\n",
      "235/235 - 1s - loss: 0.0037 - accuracy: 0.9999 - val_loss: 0.1061 - val_accuracy: 0.9756 - 884ms/epoch - 4ms/step\n",
      "Epoch 38/100\n",
      "235/235 - 1s - loss: 0.0034 - accuracy: 0.9999 - val_loss: 0.1095 - val_accuracy: 0.9755 - 896ms/epoch - 4ms/step\n",
      "Epoch 39/100\n",
      "235/235 - 1s - loss: 0.0033 - accuracy: 0.9998 - val_loss: 0.1108 - val_accuracy: 0.9756 - 876ms/epoch - 4ms/step\n",
      "Epoch 40/100\n",
      "235/235 - 1s - loss: 0.0029 - accuracy: 1.0000 - val_loss: 0.1101 - val_accuracy: 0.9754 - 943ms/epoch - 4ms/step\n",
      "Epoch 41/100\n",
      "235/235 - 1s - loss: 0.0028 - accuracy: 0.9999 - val_loss: 0.1110 - val_accuracy: 0.9756 - 997ms/epoch - 4ms/step\n",
      "Epoch 42/100\n",
      "235/235 - 1s - loss: 0.0025 - accuracy: 1.0000 - val_loss: 0.1117 - val_accuracy: 0.9751 - 940ms/epoch - 4ms/step\n",
      "Epoch 43/100\n",
      "235/235 - 1s - loss: 0.0024 - accuracy: 1.0000 - val_loss: 0.1136 - val_accuracy: 0.9753 - 884ms/epoch - 4ms/step\n",
      "Epoch 44/100\n",
      "235/235 - 1s - loss: 0.0022 - accuracy: 1.0000 - val_loss: 0.1136 - val_accuracy: 0.9753 - 891ms/epoch - 4ms/step\n",
      "Epoch 45/100\n",
      "235/235 - 1s - loss: 0.0022 - accuracy: 1.0000 - val_loss: 0.1130 - val_accuracy: 0.9753 - 886ms/epoch - 4ms/step\n",
      "Epoch 46/100\n",
      "235/235 - 1s - loss: 0.0021 - accuracy: 1.0000 - val_loss: 0.1142 - val_accuracy: 0.9753 - 884ms/epoch - 4ms/step\n",
      "Epoch 47/100\n",
      "235/235 - 1s - loss: 0.0020 - accuracy: 1.0000 - val_loss: 0.1133 - val_accuracy: 0.9754 - 897ms/epoch - 4ms/step\n",
      "Epoch 48/100\n",
      "235/235 - 1s - loss: 0.0019 - accuracy: 1.0000 - val_loss: 0.1142 - val_accuracy: 0.9755 - 887ms/epoch - 4ms/step\n",
      "Epoch 49/100\n",
      "235/235 - 1s - loss: 0.0018 - accuracy: 1.0000 - val_loss: 0.1156 - val_accuracy: 0.9752 - 898ms/epoch - 4ms/step\n",
      "Epoch 50/100\n",
      "235/235 - 1s - loss: 0.0018 - accuracy: 1.0000 - val_loss: 0.1154 - val_accuracy: 0.9755 - 916ms/epoch - 4ms/step\n",
      "Epoch 51/100\n",
      "235/235 - 1s - loss: 0.0017 - accuracy: 1.0000 - val_loss: 0.1179 - val_accuracy: 0.9751 - 893ms/epoch - 4ms/step\n",
      "Epoch 52/100\n",
      "235/235 - 1s - loss: 0.0016 - accuracy: 1.0000 - val_loss: 0.1174 - val_accuracy: 0.9752 - 882ms/epoch - 4ms/step\n",
      "Epoch 53/100\n",
      "235/235 - 1s - loss: 0.0016 - accuracy: 1.0000 - val_loss: 0.1171 - val_accuracy: 0.9754 - 900ms/epoch - 4ms/step\n",
      "Epoch 54/100\n",
      "235/235 - 1s - loss: 0.0015 - accuracy: 1.0000 - val_loss: 0.1174 - val_accuracy: 0.9756 - 887ms/epoch - 4ms/step\n",
      "Epoch 55/100\n",
      "235/235 - 1s - loss: 0.0015 - accuracy: 1.0000 - val_loss: 0.1171 - val_accuracy: 0.9757 - 890ms/epoch - 4ms/step\n",
      "Epoch 56/100\n",
      "235/235 - 1s - loss: 0.0014 - accuracy: 1.0000 - val_loss: 0.1184 - val_accuracy: 0.9751 - 931ms/epoch - 4ms/step\n",
      "Epoch 57/100\n",
      "235/235 - 1s - loss: 0.0014 - accuracy: 1.0000 - val_loss: 0.1188 - val_accuracy: 0.9757 - 1s/epoch - 4ms/step\n",
      "Epoch 58/100\n",
      "235/235 - 1s - loss: 0.0013 - accuracy: 1.0000 - val_loss: 0.1215 - val_accuracy: 0.9760 - 963ms/epoch - 4ms/step\n",
      "Epoch 59/100\n",
      "235/235 - 1s - loss: 0.0013 - accuracy: 1.0000 - val_loss: 0.1195 - val_accuracy: 0.9756 - 942ms/epoch - 4ms/step\n",
      "Epoch 60/100\n",
      "235/235 - 1s - loss: 0.0013 - accuracy: 1.0000 - val_loss: 0.1209 - val_accuracy: 0.9759 - 978ms/epoch - 4ms/step\n",
      "Epoch 61/100\n",
      "235/235 - 1s - loss: 0.0012 - accuracy: 1.0000 - val_loss: 0.1219 - val_accuracy: 0.9759 - 948ms/epoch - 4ms/step\n",
      "Epoch 62/100\n",
      "235/235 - 1s - loss: 0.0012 - accuracy: 1.0000 - val_loss: 0.1207 - val_accuracy: 0.9758 - 959ms/epoch - 4ms/step\n",
      "Epoch 63/100\n",
      "235/235 - 1s - loss: 0.0012 - accuracy: 1.0000 - val_loss: 0.1211 - val_accuracy: 0.9752 - 958ms/epoch - 4ms/step\n",
      "Epoch 64/100\n",
      "235/235 - 1s - loss: 0.0011 - accuracy: 1.0000 - val_loss: 0.1218 - val_accuracy: 0.9752 - 955ms/epoch - 4ms/step\n",
      "Epoch 65/100\n",
      "235/235 - 1s - loss: 0.0011 - accuracy: 1.0000 - val_loss: 0.1222 - val_accuracy: 0.9755 - 1s/epoch - 5ms/step\n",
      "Epoch 66/100\n",
      "235/235 - 1s - loss: 0.0011 - accuracy: 1.0000 - val_loss: 0.1235 - val_accuracy: 0.9756 - 1s/epoch - 4ms/step\n",
      "Epoch 67/100\n",
      "235/235 - 1s - loss: 0.0011 - accuracy: 1.0000 - val_loss: 0.1241 - val_accuracy: 0.9756 - 1s/epoch - 4ms/step\n",
      "Epoch 68/100\n",
      "235/235 - 1s - loss: 0.0010 - accuracy: 1.0000 - val_loss: 0.1242 - val_accuracy: 0.9757 - 1s/epoch - 4ms/step\n",
      "Epoch 69/100\n",
      "235/235 - 1s - loss: 0.0010 - accuracy: 1.0000 - val_loss: 0.1241 - val_accuracy: 0.9754 - 1s/epoch - 5ms/step\n",
      "Epoch 70/100\n",
      "235/235 - 1s - loss: 9.8892e-04 - accuracy: 1.0000 - val_loss: 0.1245 - val_accuracy: 0.9755 - 998ms/epoch - 4ms/step\n",
      "Epoch 71/100\n",
      "235/235 - 1s - loss: 9.6483e-04 - accuracy: 1.0000 - val_loss: 0.1250 - val_accuracy: 0.9750 - 991ms/epoch - 4ms/step\n",
      "Epoch 72/100\n",
      "235/235 - 1s - loss: 9.4033e-04 - accuracy: 1.0000 - val_loss: 0.1255 - val_accuracy: 0.9752 - 1s/epoch - 4ms/step\n",
      "Epoch 73/100\n",
      "235/235 - 1s - loss: 9.3068e-04 - accuracy: 1.0000 - val_loss: 0.1258 - val_accuracy: 0.9752 - 980ms/epoch - 4ms/step\n",
      "Epoch 74/100\n",
      "235/235 - 1s - loss: 8.9922e-04 - accuracy: 1.0000 - val_loss: 0.1259 - val_accuracy: 0.9754 - 969ms/epoch - 4ms/step\n",
      "Epoch 75/100\n",
      "235/235 - 1s - loss: 8.8311e-04 - accuracy: 1.0000 - val_loss: 0.1262 - val_accuracy: 0.9753 - 907ms/epoch - 4ms/step\n",
      "Epoch 76/100\n",
      "235/235 - 1s - loss: 8.6948e-04 - accuracy: 1.0000 - val_loss: 0.1265 - val_accuracy: 0.9755 - 888ms/epoch - 4ms/step\n",
      "Epoch 77/100\n",
      "235/235 - 1s - loss: 8.4790e-04 - accuracy: 1.0000 - val_loss: 0.1260 - val_accuracy: 0.9754 - 902ms/epoch - 4ms/step\n",
      "Epoch 78/100\n",
      "235/235 - 1s - loss: 8.3043e-04 - accuracy: 1.0000 - val_loss: 0.1268 - val_accuracy: 0.9756 - 891ms/epoch - 4ms/step\n",
      "Epoch 79/100\n",
      "235/235 - 1s - loss: 8.1856e-04 - accuracy: 1.0000 - val_loss: 0.1275 - val_accuracy: 0.9749 - 906ms/epoch - 4ms/step\n",
      "Epoch 80/100\n",
      "235/235 - 1s - loss: 8.0199e-04 - accuracy: 1.0000 - val_loss: 0.1278 - val_accuracy: 0.9756 - 965ms/epoch - 4ms/step\n",
      "Epoch 81/100\n",
      "235/235 - 1s - loss: 7.8010e-04 - accuracy: 1.0000 - val_loss: 0.1287 - val_accuracy: 0.9755 - 932ms/epoch - 4ms/step\n",
      "Epoch 82/100\n",
      "235/235 - 1s - loss: 7.7108e-04 - accuracy: 1.0000 - val_loss: 0.1281 - val_accuracy: 0.9752 - 916ms/epoch - 4ms/step\n",
      "Epoch 83/100\n",
      "235/235 - 1s - loss: 7.5840e-04 - accuracy: 1.0000 - val_loss: 0.1289 - val_accuracy: 0.9754 - 915ms/epoch - 4ms/step\n",
      "Epoch 84/100\n",
      "235/235 - 1s - loss: 7.4555e-04 - accuracy: 1.0000 - val_loss: 0.1297 - val_accuracy: 0.9757 - 907ms/epoch - 4ms/step\n",
      "Epoch 85/100\n",
      "235/235 - 1s - loss: 7.3583e-04 - accuracy: 1.0000 - val_loss: 0.1291 - val_accuracy: 0.9759 - 949ms/epoch - 4ms/step\n",
      "Epoch 86/100\n",
      "235/235 - 1s - loss: 7.1469e-04 - accuracy: 1.0000 - val_loss: 0.1298 - val_accuracy: 0.9761 - 1s/epoch - 5ms/step\n",
      "Epoch 87/100\n",
      "235/235 - 1s - loss: 7.1116e-04 - accuracy: 1.0000 - val_loss: 0.1293 - val_accuracy: 0.9754 - 1s/epoch - 6ms/step\n",
      "Epoch 88/100\n",
      "235/235 - 1s - loss: 7.0070e-04 - accuracy: 1.0000 - val_loss: 0.1301 - val_accuracy: 0.9758 - 1s/epoch - 5ms/step\n",
      "Epoch 89/100\n",
      "235/235 - 1s - loss: 6.8577e-04 - accuracy: 1.0000 - val_loss: 0.1306 - val_accuracy: 0.9754 - 1s/epoch - 5ms/step\n",
      "Epoch 90/100\n",
      "235/235 - 1s - loss: 6.7399e-04 - accuracy: 1.0000 - val_loss: 0.1306 - val_accuracy: 0.9754 - 1s/epoch - 5ms/step\n",
      "Epoch 91/100\n",
      "235/235 - 1s - loss: 6.6423e-04 - accuracy: 1.0000 - val_loss: 0.1309 - val_accuracy: 0.9752 - 1s/epoch - 5ms/step\n",
      "Epoch 92/100\n",
      "235/235 - 1s - loss: 6.5062e-04 - accuracy: 1.0000 - val_loss: 0.1315 - val_accuracy: 0.9759 - 924ms/epoch - 4ms/step\n",
      "Epoch 93/100\n",
      "235/235 - 1s - loss: 6.4005e-04 - accuracy: 1.0000 - val_loss: 0.1315 - val_accuracy: 0.9760 - 872ms/epoch - 4ms/step\n",
      "Epoch 94/100\n",
      "235/235 - 1s - loss: 6.3378e-04 - accuracy: 1.0000 - val_loss: 0.1319 - val_accuracy: 0.9757 - 887ms/epoch - 4ms/step\n",
      "Epoch 95/100\n",
      "235/235 - 1s - loss: 6.2139e-04 - accuracy: 1.0000 - val_loss: 0.1314 - val_accuracy: 0.9756 - 884ms/epoch - 4ms/step\n",
      "Epoch 96/100\n",
      "235/235 - 1s - loss: 6.1220e-04 - accuracy: 1.0000 - val_loss: 0.1318 - val_accuracy: 0.9755 - 864ms/epoch - 4ms/step\n",
      "Epoch 97/100\n",
      "235/235 - 1s - loss: 6.0449e-04 - accuracy: 1.0000 - val_loss: 0.1323 - val_accuracy: 0.9755 - 923ms/epoch - 4ms/step\n",
      "Epoch 98/100\n",
      "235/235 - 1s - loss: 5.9892e-04 - accuracy: 1.0000 - val_loss: 0.1324 - val_accuracy: 0.9761 - 972ms/epoch - 4ms/step\n",
      "Epoch 99/100\n",
      "235/235 - 1s - loss: 5.8913e-04 - accuracy: 1.0000 - val_loss: 0.1326 - val_accuracy: 0.9753 - 943ms/epoch - 4ms/step\n",
      "Epoch 100/100\n",
      "235/235 - 1s - loss: 5.8077e-04 - accuracy: 1.0000 - val_loss: 0.1330 - val_accuracy: 0.9755 - 891ms/epoch - 4ms/step\n"
     ]
    }
   ],
   "source": [
    "epochs = 100\n",
    "batch  = 256\n",
    "n_hidden_neurons = 50\n",
    "model = shallow_NN_model(n_hidden_neurons)\n",
    "hist_ANN = model.fit(x_train, y_train, epochs=epochs, batch_size=batch, validation_data=(x_test, y_test), verbose=2)"
   ]
  },
  {
   "cell_type": "code",
   "execution_count": 16,
   "metadata": {},
   "outputs": [],
   "source": [
    "# Plotting the Result\n",
    "import matplotlib.pyplot as plt"
   ]
  },
  {
   "cell_type": "code",
   "execution_count": 31,
   "metadata": {},
   "outputs": [],
   "source": [
    "def plot_hist_var(hist, string):\n",
    "  plt.figure(figsize=(4,4))\n",
    "  plt.subplot(2,1,1)\n",
    "  plt.plot(hist.history[string], 'b', linewidth=1.5)\n",
    "  plt.plot(hist.history['val_'+string], 'r', linewidth=1.5)\n",
    "  plt.legend(['Training set','Testing set'])\n",
    "  plt.xlabel('Epochs')\n",
    "  plt.ylabel(string)"
   ]
  },
  {
   "cell_type": "code",
   "execution_count": 32,
   "metadata": {},
   "outputs": [
    {
     "data": {
      "image/png": "[encoded data removed]",
      "text/plain": [
       "<Figure size 400x400 with 1 Axes>"
      ]
     },
     "metadata": {},
     "output_type": "display_data"
    },
    {
     "data": {
      "image/png": "[encoded data removed]",
      "text/plain": [
       "<Figure size 400x400 with 1 Axes>"
      ]
     },
     "metadata": {},
     "output_type": "display_data"
    }
   ],
   "source": [
    "plot_hist_var(hist_ANN,'loss')\n",
    "plot_hist_var(hist_ANN,'accuracy')"
   ]
  },
  {
   "cell_type": "code",
   "execution_count": 33,
   "metadata": {},
   "outputs": [
    {
     "name": "stdout",
     "output_type": "stream",
     "text": [
      "313/313 [==============================] - 1s 3ms/step - loss: 0.1330 - accuracy: 0.9755\n",
      "['loss', 'accuracy']\n"
     ]
    }
   ],
   "source": [
    "score =  model.evaluate(x_test, y_test)\n",
    "print(model.metrics_names)\n"
   ]
  },
  {
   "cell_type": "code",
   "execution_count": null,
   "metadata": {},
   "outputs": [],
   "source": []
  }
 ],
 "metadata": {
  "kernelspec": {
   "display_name": "Python 3",
   "language": "python",
   "name": "python3"
  },
  "language_info": {
   "codemirror_mode": {
    "name": "ipython",
    "version": 3
   },
   "file_extension": ".py",
   "mimetype": "text/x-python",
   "name": "python",
   "nbconvert_exporter": "python",
   "pygments_lexer": "ipython3",
   "version": "3.11.5"
  },
  "orig_nbformat": 4
 },
 "nbformat": 4,
 "nbformat_minor": 2
}
